{
 "cells": [
  {
   "cell_type": "code",
   "execution_count": 118,
   "metadata": {},
   "outputs": [
    {
     "name": "stdout",
     "output_type": "stream",
     "text": [
      "0.798534\n",
      "False\n"
     ]
    }
   ],
   "source": [
    "import pandas as pd\n",
    "import numpy as math\n",
    "\n",
    "df = pd.read_csv(\"diabetes.csv\")\n",
    "\n",
    "def f_act(x):\n",
    "    return 1/(1+math.exp(-x))\n",
    "\n",
    "def forwardPass(wiek, waga, wzrost):\n",
    "    hidden1 = -0.46122 * wiek+ 0.97314 * waga  - 0.39203 * wzrost + 0.80109\n",
    "    hidden1_po_aktywacji = f_act(hidden1)\n",
    "    hidden2 = 0.78548 * wiek + 2.10584 * waga - 0.57847 * wzrost +  0.43529\n",
    "    hidden2_po_aktywacji = f_act(hidden2)\n",
    "    output = -0.81546 * hidden1_po_aktywacji + 1.03775 * hidden2_po_aktywacji - 0.2368\n",
    "    return output\n",
    "\n",
    "output = forwardPass(23,75,176)\n",
    "print(output.round(6))\n",
    "print(output.round(6) == 0.798528)\n",
    "\n",
    "\n",
    "\n",
    "\n",
    "\n",
    "  "
   ]
  },
  {
   "cell_type": "code",
   "execution_count": 250,
   "metadata": {},
   "outputs": [
    {
     "name": "stdout",
     "output_type": "stream",
     "text": [
      "0.37777777777777777\n",
      "0.28888888888888886\n",
      "0.9777777777777777\n"
     ]
    },
    {
     "name": "stderr",
     "output_type": "stream",
     "text": [
      "/Library/Frameworks/Python.framework/Versions/3.10/lib/python3.10/site-packages/sklearn/neural_network/_multilayer_perceptron.py:1098: DataConversionWarning: A column-vector y was passed when a 1d array was expected. Please change the shape of y to (n_samples, ), for example using ravel().\n",
      "  y = column_or_1d(y, warn=True)\n",
      "/Library/Frameworks/Python.framework/Versions/3.10/lib/python3.10/site-packages/sklearn/neural_network/_multilayer_perceptron.py:686: ConvergenceWarning: Stochastic Optimizer: Maximum iterations (200) reached and the optimization hasn't converged yet.\n",
      "  warnings.warn(\n",
      "/Library/Frameworks/Python.framework/Versions/3.10/lib/python3.10/site-packages/sklearn/neural_network/_multilayer_perceptron.py:1098: DataConversionWarning: A column-vector y was passed when a 1d array was expected. Please change the shape of y to (n_samples, ), for example using ravel().\n",
      "  y = column_or_1d(y, warn=True)\n",
      "/Library/Frameworks/Python.framework/Versions/3.10/lib/python3.10/site-packages/sklearn/neural_network/_multilayer_perceptron.py:1098: DataConversionWarning: A column-vector y was passed when a 1d array was expected. Please change the shape of y to (n_samples, ), for example using ravel().\n",
      "  y = column_or_1d(y, warn=True)\n"
     ]
    }
   ],
   "source": [
    "# Zadanie 2\n",
    "from sklearn.datasets import load_iris\n",
    "\n",
    "iris = load_iris()\n",
    "# splitting into train and test datasets\n",
    "\n",
    "# [0,1,2] = [setosa, versicolor, virginica]\n",
    "\n",
    "from sklearn.model_selection import train_test_split\n",
    "datasets = train_test_split(iris.data, iris.target,\n",
    "                            test_size=0.3)\n",
    "\n",
    "train_data, test_data, train_labels, test_labels = datasets\n",
    "\n",
    "# scaling the data\n",
    "# from sklearn.preprocessing import StandardScaler\n",
    "# scaler = StandardScaler()\n",
    "\n",
    "# # we fit the train data\n",
    "# scaler.fit(train_data)\n",
    "\n",
    "# # scaling the train data\n",
    "# train_data = scaler.transform(train_data)\n",
    "# test_data = scaler.transform(test_data)\n",
    "\n",
    "\n",
    "# Training the Model\n",
    "from sklearn.neural_network import MLPClassifier\n",
    "\n",
    "mlp = MLPClassifier(hidden_layer_sizes=(2,), random_state=1)\n",
    "mlp.fit(train_data, train_labels)\n",
    "\n",
    "prediction = mlp.predict(test_data)\n",
    "val = 0\n",
    "for i in range(len(prediction)):\n",
    "    if prediction[i] == test_labels[i]:\n",
    "        val += 1\n",
    "\n",
    "print(val/len(prediction))\n",
    "\n",
    "clf = MLPClassifier(hidden_layer_sizes=3, random_state=1)\n",
    "clf = MLPClassifier(solver='lbfgs', alpha=1e-5, hidden_layer_sizes=(3, ), random_state=1)\n",
    "clf.fit(train_data, train_labels)\n",
    "prediction = clf.predict(test_data)\n",
    "val = 0\n",
    "for i in range(len(prediction)):\n",
    "    if prediction[i] == test_labels[i]:\n",
    "        val += 1\n",
    "\n",
    "print(val/len(prediction))\n",
    "\n",
    "clf = MLPClassifier(hidden_layer_sizes=3, random_state=1)\n",
    "clf = MLPClassifier(solver='lbfgs', alpha=1e-5, hidden_layer_sizes=(3,3 ), random_state=1)\n",
    "clf.fit(train_data, train_labels)\n",
    "prediction = clf.predict(test_data)\n",
    "val = 0\n",
    "for i in range(len(prediction)):\n",
    "    if prediction[i] == test_labels[i]:\n",
    "        val += 1\n",
    "\n",
    "print(val/len(prediction))\n",
    "\n",
    "\n",
    "\n",
    "\n",
    "\n",
    "\n"
   ]
  },
  {
   "cell_type": "code",
   "execution_count": 229,
   "metadata": {},
   "outputs": [
    {
     "name": "stdout",
     "output_type": "stream",
     "text": [
      "0.9111111111111111\n"
     ]
    }
   ],
   "source": [
    "\n"
   ]
  }
 ],
 "metadata": {
  "kernelspec": {
   "display_name": "Python 3",
   "language": "python",
   "name": "python3"
  },
  "language_info": {
   "codemirror_mode": {
    "name": "ipython",
    "version": 3
   },
   "file_extension": ".py",
   "mimetype": "text/x-python",
   "name": "python",
   "nbconvert_exporter": "python",
   "pygments_lexer": "ipython3",
   "version": "3.10.8"
  },
  "orig_nbformat": 4
 },
 "nbformat": 4,
 "nbformat_minor": 2
}
