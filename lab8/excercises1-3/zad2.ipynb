{
 "cells": [
  {
   "cell_type": "code",
   "execution_count": 10,
   "metadata": {},
   "outputs": [
    {
     "name": "stdout",
     "output_type": "stream",
     "text": [
      "{'neg': 0.0, 'neu': 0.691, 'pos': 0.309, 'compound': 0.9752}\n",
      "{'neg': 0.088, 'neu': 0.831, 'pos': 0.081, 'compound': -0.2444}\n"
     ]
    }
   ],
   "source": [
    "import nltk.sentiment.vader\n",
    "\n",
    "\n",
    "good_review = \"We loved the place and the location in the heart of old city. The view from the window was stunning. The flat was modern, comfortable, clean and equiped with everything what is needed. We had a great contact with the owner who was very friendly and flexible. There was plenty of restaurants and a shop just round the corner. We highly recommend this palce to everyone.\"\n",
    "bad_review = \"Don’t book this appartement, it’s a scam.  We booked this apartment because it looked nice with good facilities. Just a few hours before arrival we got a message that there were ‘technical problems’ and that we had to go to a replacement apartment. The owner was not there himself but emailed us instructions to enter the apartment. The owner made it look like a gesture, but the replacement apartment was old, flawed and did not have the same facilities as the one we booked and paid for. We kindly let the owner know that we regret the problems with our booked apartment, but that we could not accept the replacement for the reasons mentioned above. We asked for a refund but never heard from him again, not even after a few reminders.\"\n",
    "\n",
    "# Create a SentimentIntensityAnalyzer object.\n",
    "sid = nltk.sentiment.vader.SentimentIntensityAnalyzer()\n",
    "\n",
    "# Polarity scores for good_review\n",
    "scores = sid.polarity_scores(good_review)\n",
    "print(scores)\n",
    "\n",
    "# Polarity scores for bad_review\n",
    "scores = sid.polarity_scores(bad_review)\n",
    "print(scores)\n",
    "\n"
   ]
  },
  {
   "cell_type": "code",
   "execution_count": 11,
   "metadata": {},
   "outputs": [
    {
     "name": "stdout",
     "output_type": "stream",
     "text": [
      "{'Happy': 0.5, 'Angry': 0.0, 'Surprise': 0.12, 'Sad': 0.25, 'Fear': 0.12}\n",
      "{'Happy': 0.2, 'Angry': 0.0, 'Surprise': 0.1, 'Sad': 0.3, 'Fear': 0.4}\n"
     ]
    }
   ],
   "source": [
    "import text2emotion as te\n",
    "import ssl\n",
    "\n",
    "try:\n",
    "    _create_unverified_https_context = ssl._create_unverified_context\n",
    "except AttributeError:\n",
    "    pass\n",
    "else:\n",
    "    ssl._create_default_https_context = _create_unverified_https_context\n",
    "# Get emotions from good_review\n",
    "good_review_emotions = te.get_emotion(good_review)\n",
    "print(good_review_emotions)\n",
    "\n",
    "bad_review_emotions = te.get_emotion(bad_review)    \n",
    "print(bad_review_emotions)\n"
   ]
  },
  {
   "cell_type": "code",
   "execution_count": 20,
   "metadata": {},
   "outputs": [
    {
     "name": "stdout",
     "output_type": "stream",
     "text": [
      "{'neg': 0.0, 'neu': 0.668, 'pos': 0.332, 'compound': 0.9815}\n",
      "{'Happy': 0.44, 'Angry': 0.0, 'Surprise': 0.22, 'Sad': 0.22, 'Fear': 0.11}\n",
      "{'neg': 0.088, 'neu': 0.831, 'pos': 0.081, 'compound': -0.2444}\n",
      "{'Happy': 0.2, 'Angry': 0.0, 'Surprise': 0.1, 'Sad': 0.3, 'Fear': 0.4}\n"
     ]
    }
   ],
   "source": [
    "good_review = \"We loved the place and the location in the heart of old city, it was amazing. The view from the window was really stunning. The flat was modern, comfortable, clean and equiped with everything what is needed. We had a great contact with the owner who was very friendly and flexible. There was plenty of restaurants and a shop just round the corner. We highly recommend this palce to everyone.\"\n",
    "bad_review = bad_review + \"terrible\" + \"overestimated\" + \"awful\" + \"alone\"\n",
    "\n",
    "scores = sid.polarity_scores(good_review)\n",
    "print(scores)\n",
    "good_review_emotions = te.get_emotion(good_review)\n",
    "print(good_review_emotions)\n",
    "\n",
    "scores = sid.polarity_scores(bad_review)\n",
    "print(scores)\n",
    "bad_review_emotions = te.get_emotion(bad_review)\n",
    "print(bad_review_emotions)"
   ]
  }
 ],
 "metadata": {
  "kernelspec": {
   "display_name": "Python 3",
   "language": "python",
   "name": "python3"
  },
  "language_info": {
   "codemirror_mode": {
    "name": "ipython",
    "version": 3
   },
   "file_extension": ".py",
   "mimetype": "text/x-python",
   "name": "python",
   "nbconvert_exporter": "python",
   "pygments_lexer": "ipython3",
   "version": "3.10.8"
  },
  "orig_nbformat": 4
 },
 "nbformat": 4,
 "nbformat_minor": 2
}
